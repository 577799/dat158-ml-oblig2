{
 "cells": [
  {
   "cell_type": "code",
   "execution_count": 1,
   "metadata": {},
   "outputs": [],
   "source": [
    "#Frame the problem and look at the big picture\n",
    "#Get the data\n",
    "#Explore the data to gain insights\n",
    "#Prepare the data to better expose the underlying data patterns to machine learning algorithms\n",
    "#Explore many different models and short-list the best ones\n",
    "#Fine-tune your models and combine them into a great solution\n",
    "#Present your solution\n",
    "#Launch, monitor and maintain your system"
   ]
  },
  {
   "cell_type": "markdown",
   "metadata": {},
   "source": [
    "## Frame the problem and look at the big picture"
   ]
  },
  {
   "cell_type": "markdown",
   "metadata": {},
   "source": [
    "In this project we are going to train a neural network for image recognition. The dataset we will be using contains .... After we have fine-tuned the model and finished training it, we will deploy it on our web-app. From there you can upload a image of a .... and get the classification of the image. \n",
    "\n",
    "We will use Tensorflow with keras for the neural network. "
   ]
  },
  {
   "cell_type": "markdown",
   "metadata": {},
   "source": [
    "## Get the data"
   ]
  },
  {
   "cell_type": "code",
   "execution_count": 2,
   "metadata": {},
   "outputs": [
    {
     "name": "stderr",
     "output_type": "stream",
     "text": [
      "C:\\Users\\jonas\\miniconda3\\lib\\site-packages\\numpy\\_distributor_init.py:30: UserWarning: loaded more than 1 DLL from .libs:\n",
      "C:\\Users\\jonas\\miniconda3\\lib\\site-packages\\numpy\\.libs\\libopenblas.NOIJJG62EMASZI6NYURL6JBKM4EVBGM7.gfortran-win_amd64.dll\n",
      "C:\\Users\\jonas\\miniconda3\\lib\\site-packages\\numpy\\.libs\\libopenblas.PYQHXLVVQ7VESDPUVUADXEVJOBGHJPAY.gfortran-win_amd64.dll\n",
      "  warnings.warn(\"loaded more than 1 DLL from .libs:\\n%s\" %\n"
     ]
    }
   ],
   "source": [
    "#Import the libraries\n",
    "import tensorflow as tf\n",
    "from tensorflow import keras\n",
    "from keras.models import Sequential\n",
    "from keras.layers import Dense, Flatten, Conv2D, MaxPooling2D, Dropout\n",
    "from tensorflow.keras import layers\n",
    "from keras.utils import to_categorical\n",
    "import numpy as np\n",
    "import matplotlib.pyplot as plt\n",
    "plt.style.use('fivethirtyeight')"
   ]
  },
  {
   "cell_type": "code",
   "execution_count": 3,
   "metadata": {},
   "outputs": [],
   "source": [
    "#Load the data\n",
    "from keras.datasets import cifar10\n",
    "(x_train, y_train), (x_test, y_test) = cifar10.load_data()"
   ]
  },
  {
   "cell_type": "markdown",
   "metadata": {},
   "source": [
    "## Explore the data to gain insights"
   ]
  },
  {
   "cell_type": "code",
   "execution_count": 4,
   "metadata": {},
   "outputs": [
    {
     "name": "stdout",
     "output_type": "stream",
     "text": [
      "<class 'numpy.ndarray'>\n",
      "<class 'numpy.ndarray'>\n",
      "<class 'numpy.ndarray'>\n",
      "<class 'numpy.ndarray'>\n"
     ]
    }
   ],
   "source": [
    "#Look at the data types\n",
    "print(type(x_train))\n",
    "print(type(y_train))\n",
    "print(type(x_test))\n",
    "print(type(y_test))"
   ]
  },
  {
   "cell_type": "code",
   "execution_count": 5,
   "metadata": {},
   "outputs": [
    {
     "name": "stdout",
     "output_type": "stream",
     "text": [
      "x_train:  (50000, 32, 32, 3)\n",
      "y_train:  (50000, 1)\n",
      "x_test:  (10000, 32, 32, 3)\n",
      "y_test:  (10000, 1)\n"
     ]
    }
   ],
   "source": [
    "#Get the shape of the arrays\n",
    "print('x_train: ', x_train.shape)\n",
    "print('y_train: ', y_train.shape)\n",
    "print('x_test: ', x_test.shape)\n",
    "print('y_test: ', y_test.shape)"
   ]
  },
  {
   "cell_type": "code",
   "execution_count": 6,
   "metadata": {
    "scrolled": true
   },
   "outputs": [
    {
     "data": {
      "text/plain": [
       "array([[[ 59,  62,  63],\n",
       "        [ 43,  46,  45],\n",
       "        [ 50,  48,  43],\n",
       "        ...,\n",
       "        [158, 132, 108],\n",
       "        [152, 125, 102],\n",
       "        [148, 124, 103]],\n",
       "\n",
       "       [[ 16,  20,  20],\n",
       "        [  0,   0,   0],\n",
       "        [ 18,   8,   0],\n",
       "        ...,\n",
       "        [123,  88,  55],\n",
       "        [119,  83,  50],\n",
       "        [122,  87,  57]],\n",
       "\n",
       "       [[ 25,  24,  21],\n",
       "        [ 16,   7,   0],\n",
       "        [ 49,  27,   8],\n",
       "        ...,\n",
       "        [118,  84,  50],\n",
       "        [120,  84,  50],\n",
       "        [109,  73,  42]],\n",
       "\n",
       "       ...,\n",
       "\n",
       "       [[208, 170,  96],\n",
       "        [201, 153,  34],\n",
       "        [198, 161,  26],\n",
       "        ...,\n",
       "        [160, 133,  70],\n",
       "        [ 56,  31,   7],\n",
       "        [ 53,  34,  20]],\n",
       "\n",
       "       [[180, 139,  96],\n",
       "        [173, 123,  42],\n",
       "        [186, 144,  30],\n",
       "        ...,\n",
       "        [184, 148,  94],\n",
       "        [ 97,  62,  34],\n",
       "        [ 83,  53,  34]],\n",
       "\n",
       "       [[177, 144, 116],\n",
       "        [168, 129,  94],\n",
       "        [179, 142,  87],\n",
       "        ...,\n",
       "        [216, 184, 140],\n",
       "        [151, 118,  84],\n",
       "        [123,  92,  72]]], dtype=uint8)"
      ]
     },
     "execution_count": 6,
     "metadata": {},
     "output_type": "execute_result"
    }
   ],
   "source": [
    "#We take a look at the first image\n",
    "index = 0\n",
    "x_train[index]"
   ]
  },
  {
   "cell_type": "code",
   "execution_count": 7,
   "metadata": {},
   "outputs": [
    {
     "data": {
      "image/png": "[encoded data removed]",
      "text/plain": [
       "<Figure size 432x288 with 1 Axes>"
      ]
     },
     "metadata": {},
     "output_type": "display_data"
    }
   ],
   "source": [
    "#Show the first row as an image\n",
    "img = plt.imshow(x_train[index])"
   ]
  },
  {
   "cell_type": "markdown",
   "metadata": {},
   "source": [
    "Looks like a frog. Lets check if that is correct."
   ]
  },
  {
   "cell_type": "code",
   "execution_count": 8,
   "metadata": {
    "scrolled": true
   },
   "outputs": [
    {
     "name": "stdout",
     "output_type": "stream",
     "text": [
      "The image class is:  frog\n"
     ]
    }
   ],
   "source": [
    "#Get the image classification\n",
    "classification = ['airplane', 'automobile', 'bird', 'cat', 'deer', 'dog', 'frog', 'horse', 'ship', 'truck']\n",
    "#Print the image class\n",
    "print('The image class is: ', classification[y_train[index][0]])"
   ]
  },
  {
   "cell_type": "code",
   "execution_count": null,
   "metadata": {},
   "outputs": [],
   "source": []
  },
  {
   "cell_type": "code",
   "execution_count": null,
   "metadata": {},
   "outputs": [],
   "source": []
  },
  {
   "cell_type": "code",
   "execution_count": null,
   "metadata": {},
   "outputs": [],
   "source": []
  },
  {
   "cell_type": "code",
   "execution_count": null,
   "metadata": {},
   "outputs": [],
   "source": []
  },
  {
   "cell_type": "code",
   "execution_count": null,
   "metadata": {},
   "outputs": [],
   "source": []
  },
  {
   "cell_type": "code",
   "execution_count": null,
   "metadata": {},
   "outputs": [],
   "source": []
  },
  {
   "cell_type": "markdown",
   "metadata": {},
   "source": [
    "## Prepare the data to better expose the underlying data patterns to machine learning algorithms"
   ]
  },
  {
   "cell_type": "code",
   "execution_count": 9,
   "metadata": {},
   "outputs": [],
   "source": [
    "#Convert the labels into a set of 10 numbers to input into the neural network\n",
    "y_train_one_hot = to_categorical(y_train)\n",
    "y_test_one_hot = to_categorical(y_test)"
   ]
  },
  {
   "cell_type": "code",
   "execution_count": 10,
   "metadata": {},
   "outputs": [
    {
     "name": "stdout",
     "output_type": "stream",
     "text": [
      "[[0. 0. 0. ... 0. 0. 0.]\n",
      " [0. 0. 0. ... 0. 0. 1.]\n",
      " [0. 0. 0. ... 0. 0. 1.]\n",
      " ...\n",
      " [0. 0. 0. ... 0. 0. 1.]\n",
      " [0. 1. 0. ... 0. 0. 0.]\n",
      " [0. 1. 0. ... 0. 0. 0.]]\n"
     ]
    }
   ],
   "source": [
    "#Print the new labels\n",
    "print(y_train_one_hot)"
   ]
  },
  {
   "cell_type": "code",
   "execution_count": 11,
   "metadata": {},
   "outputs": [
    {
     "name": "stdout",
     "output_type": "stream",
     "text": [
      "The one hot label is:  [0. 0. 0. 0. 0. 0. 1. 0. 0. 0.]\n"
     ]
    }
   ],
   "source": [
    "#Print the new label of the current image above\n",
    "print('The one hot label is: ', y_train_one_hot[index])"
   ]
  },
  {
   "cell_type": "code",
   "execution_count": 12,
   "metadata": {},
   "outputs": [],
   "source": [
    "#Normalize the pixels to be values between 0 and 1\n",
    "x_train = x_train / 255\n",
    "x_test = x_test / 255"
   ]
  },
  {
   "cell_type": "code",
   "execution_count": 13,
   "metadata": {},
   "outputs": [
    {
     "data": {
      "text/plain": [
       "array([[[0.23137255, 0.24313725, 0.24705882],\n",
       "        [0.16862745, 0.18039216, 0.17647059],\n",
       "        [0.19607843, 0.18823529, 0.16862745],\n",
       "        ...,\n",
       "        [0.61960784, 0.51764706, 0.42352941],\n",
       "        [0.59607843, 0.49019608, 0.4       ],\n",
       "        [0.58039216, 0.48627451, 0.40392157]],\n",
       "\n",
       "       [[0.0627451 , 0.07843137, 0.07843137],\n",
       "        [0.        , 0.        , 0.        ],\n",
       "        [0.07058824, 0.03137255, 0.        ],\n",
       "        ...,\n",
       "        [0.48235294, 0.34509804, 0.21568627],\n",
       "        [0.46666667, 0.3254902 , 0.19607843],\n",
       "        [0.47843137, 0.34117647, 0.22352941]],\n",
       "\n",
       "       [[0.09803922, 0.09411765, 0.08235294],\n",
       "        [0.0627451 , 0.02745098, 0.        ],\n",
       "        [0.19215686, 0.10588235, 0.03137255],\n",
       "        ...,\n",
       "        [0.4627451 , 0.32941176, 0.19607843],\n",
       "        [0.47058824, 0.32941176, 0.19607843],\n",
       "        [0.42745098, 0.28627451, 0.16470588]],\n",
       "\n",
       "       ...,\n",
       "\n",
       "       [[0.81568627, 0.66666667, 0.37647059],\n",
       "        [0.78823529, 0.6       , 0.13333333],\n",
       "        [0.77647059, 0.63137255, 0.10196078],\n",
       "        ...,\n",
       "        [0.62745098, 0.52156863, 0.2745098 ],\n",
       "        [0.21960784, 0.12156863, 0.02745098],\n",
       "        [0.20784314, 0.13333333, 0.07843137]],\n",
       "\n",
       "       [[0.70588235, 0.54509804, 0.37647059],\n",
       "        [0.67843137, 0.48235294, 0.16470588],\n",
       "        [0.72941176, 0.56470588, 0.11764706],\n",
       "        ...,\n",
       "        [0.72156863, 0.58039216, 0.36862745],\n",
       "        [0.38039216, 0.24313725, 0.13333333],\n",
       "        [0.3254902 , 0.20784314, 0.13333333]],\n",
       "\n",
       "       [[0.69411765, 0.56470588, 0.45490196],\n",
       "        [0.65882353, 0.50588235, 0.36862745],\n",
       "        [0.70196078, 0.55686275, 0.34117647],\n",
       "        ...,\n",
       "        [0.84705882, 0.72156863, 0.54901961],\n",
       "        [0.59215686, 0.4627451 , 0.32941176],\n",
       "        [0.48235294, 0.36078431, 0.28235294]]])"
      ]
     },
     "execution_count": 13,
     "metadata": {},
     "output_type": "execute_result"
    }
   ],
   "source": [
    "x_train[index]"
   ]
  },
  {
   "cell_type": "code",
   "execution_count": null,
   "metadata": {},
   "outputs": [],
   "source": []
  },
  {
   "cell_type": "code",
   "execution_count": null,
   "metadata": {},
   "outputs": [],
   "source": []
  },
  {
   "cell_type": "code",
   "execution_count": null,
   "metadata": {},
   "outputs": [],
   "source": []
  },
  {
   "cell_type": "markdown",
   "metadata": {},
   "source": [
    "## Explore many different models and short-list the best ones"
   ]
  },
  {
   "cell_type": "code",
   "execution_count": 14,
   "metadata": {},
   "outputs": [],
   "source": [
    "#Create the models architecture\n",
    "model = Sequential()\n",
    "\n",
    "#Add the first layer \n",
    "model.add( Conv2D(32, (5,5), activation='relu', input_shape=(32,32,3)) )\n",
    "\n",
    "#Add a pooling layer\n",
    "model.add( MaxPooling2D(pool_size= (2,2)) )\n",
    "\n",
    "#Add another convolution layer\n",
    "model.add( Conv2D(32, (5,5), activation='relu') ) \n",
    "\n",
    "#Add another pooling layer\n",
    "model.add( MaxPooling2D(pool_size= (2,2)) )\n",
    "\n",
    "#Add a flattening layer\n",
    "model.add(Flatten())\n",
    "\n",
    "#Add a layer with 1000 neurons\n",
    "model.add(Dense(1000, activation='relu'))\n",
    "\n",
    "#Add a drop out layer\n",
    "model.add(Dropout(0.5))\n",
    "\n",
    "#Add another layer with 500 neurons\n",
    "model.add(Dense(500, activation='relu'))\n",
    "\n",
    "#Add another drop out layer\n",
    "model.add(Dropout(0.5))\n",
    "\n",
    "#Add another layer with 250 neurons\n",
    "model.add(Dense(250, activation='relu'))\n",
    "\n",
    "#Add another layer with 10 neurons\n",
    "model.add(Dense(10, activation='softmax'))"
   ]
  },
  {
   "cell_type": "code",
   "execution_count": 15,
   "metadata": {},
   "outputs": [],
   "source": [
    "#Compile the model\n",
    "model.compile(loss = 'categorical_crossentropy',\n",
    "              optimizer = 'adam',\n",
    "              metrics = ['accuracy'])"
   ]
  },
  {
   "cell_type": "code",
   "execution_count": 16,
   "metadata": {},
   "outputs": [
    {
     "name": "stdout",
     "output_type": "stream",
     "text": [
      "Epoch 1/10\n",
      "157/157 [==============================] - 22s 137ms/step - loss: 1.8261 - accuracy: 0.3164 - val_loss: 1.5225 - val_accuracy: 0.4364\n",
      "Epoch 2/10\n",
      "157/157 [==============================] - 21s 135ms/step - loss: 1.4358 - accuracy: 0.4746 - val_loss: 1.3493 - val_accuracy: 0.5064\n",
      "Epoch 3/10\n",
      "157/157 [==============================] - 22s 137ms/step - loss: 1.2809 - accuracy: 0.5371 - val_loss: 1.2098 - val_accuracy: 0.5620\n",
      "Epoch 4/10\n",
      "157/157 [==============================] - 22s 140ms/step - loss: 1.1821 - accuracy: 0.5780 - val_loss: 1.1615 - val_accuracy: 0.5883\n",
      "Epoch 5/10\n",
      "157/157 [==============================] - 23s 144ms/step - loss: 1.0908 - accuracy: 0.6115 - val_loss: 1.0850 - val_accuracy: 0.6177\n",
      "Epoch 6/10\n",
      "157/157 [==============================] - 23s 144ms/step - loss: 1.0260 - accuracy: 0.6362 - val_loss: 1.0579 - val_accuracy: 0.6261\n",
      "Epoch 7/10\n",
      "157/157 [==============================] - 23s 147ms/step - loss: 0.9731 - accuracy: 0.6555 - val_loss: 0.9848 - val_accuracy: 0.6580\n",
      "Epoch 8/10\n",
      "157/157 [==============================] - 22s 138ms/step - loss: 0.9169 - accuracy: 0.6757 - val_loss: 0.9933 - val_accuracy: 0.6578\n",
      "Epoch 9/10\n",
      "157/157 [==============================] - 22s 138ms/step - loss: 0.8546 - accuracy: 0.6997 - val_loss: 0.9358 - val_accuracy: 0.6769\n",
      "Epoch 10/10\n",
      "157/157 [==============================] - 21s 136ms/step - loss: 0.8057 - accuracy: 0.7153 - val_loss: 0.9427 - val_accuracy: 0.6826\n"
     ]
    }
   ],
   "source": [
    "#Train the model\n",
    "hist = model.fit(x_train, y_train_one_hot,\n",
    "                 batch_size = 256,\n",
    "                 epochs = 10,\n",
    "                 validation_split = 0.2)"
   ]
  },
  {
   "cell_type": "code",
   "execution_count": 26,
   "metadata": {},
   "outputs": [
    {
     "name": "stdout",
     "output_type": "stream",
     "text": [
      "313/313 [==============================] - 2s 5ms/step - loss: 0.9636 - accuracy: 0.6597\n"
     ]
    },
    {
     "data": {
      "text/plain": [
       "0.6596999764442444"
      ]
     },
     "execution_count": 26,
     "metadata": {},
     "output_type": "execute_result"
    }
   ],
   "source": [
    "#Evaluate the model using the test data set\n",
    "model.evaluate(x_test, y_test_one_hot)[1]"
   ]
  },
  {
   "cell_type": "code",
   "execution_count": 27,
   "metadata": {},
   "outputs": [
    {
     "data": {
      "image/png": "[encoded data removed]",
      "text/plain": [
       "<Figure size 432x288 with 1 Axes>"
      ]
     },
     "metadata": {},
     "output_type": "display_data"
    }
   ],
   "source": [
    "#Vizualise the models accuracy\n",
    "plt.plot(hist.history['accuracy'])\n",
    "plt.plot(hist.history['val_accuracy'])\n",
    "plt.title('Model accuracy')\n",
    "plt.ylabel('Accuracy')\n",
    "plt.xlabel('Epochs')\n",
    "plt.legend(['Train', 'val'], loc='upper left')\n",
    "plt.show()"
   ]
  },
  {
   "cell_type": "code",
   "execution_count": 28,
   "metadata": {},
   "outputs": [
    {
     "data": {
      "image/png": "[encoded data removed]",
      "text/plain": [
       "<Figure size 432x288 with 1 Axes>"
      ]
     },
     "metadata": {},
     "output_type": "display_data"
    }
   ],
   "source": [
    "#Visualize the models loss\n",
    "plt.plot(hist.history['loss'])\n",
    "plt.plot(hist.history['val_loss'])\n",
    "plt.title('Model loss')\n",
    "plt.ylabel('Loss')\n",
    "plt.xlabel('Epochs')\n",
    "plt.legend(['Train', 'val'], loc='upper right')\n",
    "plt.show()"
   ]
  },
  {
   "cell_type": "code",
   "execution_count": 29,
   "metadata": {},
   "outputs": [],
   "source": [
    "#Test the model with an example\n",
    "#from google.colab import files\n",
    "#uploaded = import \"bird.jpg\"\n",
    "\n",
    "#from PIL import Image\n",
    "#im  = Image.open(\"bird.jpg\")\n"
   ]
  },
  {
   "cell_type": "code",
   "execution_count": 30,
   "metadata": {},
   "outputs": [
    {
     "data": {
      "image/png": "[encoded data removed]",
      "text/plain": [
       "<Figure size 432x288 with 1 Axes>"
      ]
     },
     "metadata": {},
     "output_type": "display_data"
    }
   ],
   "source": [
    "#show the image\n",
    "new_image = plt.imread(\"bird.jpg\")\n",
    "img = plt.imshow(new_image)"
   ]
  },
  {
   "cell_type": "code",
   "execution_count": 31,
   "metadata": {},
   "outputs": [
    {
     "data": {
      "image/png": "[encoded data removed]",
      "text/plain": [
       "<Figure size 432x288 with 1 Axes>"
      ]
     },
     "metadata": {},
     "output_type": "display_data"
    }
   ],
   "source": [
    "#Resize the image\n",
    "from skimage.transform import resize\n",
    "resized_image = resize(new_image, (32,32,3))\n",
    "img = plt.imshow(resized_image)"
   ]
  },
  {
   "cell_type": "code",
   "execution_count": 32,
   "metadata": {},
   "outputs": [
    {
     "data": {
      "text/plain": [
       "array([[1.2046555e-02, 1.7351824e-04, 1.5917946e-01, 2.7566612e-01,\n",
       "        8.8669635e-02, 4.1914722e-01, 1.4230144e-02, 2.7122211e-02,\n",
       "        3.3294030e-03, 4.3565690e-04]], dtype=float32)"
      ]
     },
     "execution_count": 32,
     "metadata": {},
     "output_type": "execute_result"
    }
   ],
   "source": [
    "#Get the models predictions\n",
    "predictions = model.predict(np.array([resized_image]))\n",
    "\n",
    "#Show the predictions\n",
    "predictions"
   ]
  },
  {
   "cell_type": "code",
   "execution_count": 33,
   "metadata": {},
   "outputs": [
    {
     "name": "stdout",
     "output_type": "stream",
     "text": [
      "[5, 3, 2, 4, 7, 6, 0, 8, 9, 1]\n"
     ]
    }
   ],
   "source": [
    "#Sort the predictions from least to greatest\n",
    "list_index = [0,1,2,3,4,5,6,7,8,9]\n",
    "x = predictions\n",
    "\n",
    "for i in range(10):\n",
    "  for j in range(10):\n",
    "    if x[0][list_index[i]] > x[0][list_index[j]]:\n",
    "      temp = list_index[i]\n",
    "      list_index[i] = list_index[j]\n",
    "      list_index[j] = temp\n",
    "\n",
    "#Show the sorted labels in order\n",
    "print(list_index)"
   ]
  },
  {
   "cell_type": "code",
   "execution_count": 34,
   "metadata": {},
   "outputs": [
    {
     "name": "stdout",
     "output_type": "stream",
     "text": [
      "dog : 41.91 %\n",
      "cat : 27.57 %\n",
      "bird : 15.92 %\n",
      "deer : 8.87 %\n",
      "horse : 2.71 %\n"
     ]
    }
   ],
   "source": [
    "#print the first 5 predictions\n",
    "for i in range(5):\n",
    "  print(classification[list_index[i]], ':', round(predictions[0][list_index[i]] * 100, 2), '%')"
   ]
  },
  {
   "cell_type": "code",
   "execution_count": null,
   "metadata": {},
   "outputs": [],
   "source": []
  },
  {
   "cell_type": "markdown",
   "metadata": {},
   "source": [
    "## Fine-tune your models and combine them into a great solution"
   ]
  },
  {
   "cell_type": "code",
   "execution_count": null,
   "metadata": {},
   "outputs": [],
   "source": []
  },
  {
   "cell_type": "code",
   "execution_count": null,
   "metadata": {},
   "outputs": [],
   "source": []
  },
  {
   "cell_type": "markdown",
   "metadata": {},
   "source": [
    "## Present your solution"
   ]
  },
  {
   "cell_type": "code",
   "execution_count": null,
   "metadata": {},
   "outputs": [],
   "source": []
  },
  {
   "cell_type": "code",
   "execution_count": null,
   "metadata": {},
   "outputs": [],
   "source": []
  },
  {
   "cell_type": "markdown",
   "metadata": {},
   "source": [
    "## Launch, monitor and maintain your system"
   ]
  },
  {
   "cell_type": "code",
   "execution_count": null,
   "metadata": {},
   "outputs": [],
   "source": []
  },
  {
   "cell_type": "code",
   "execution_count": null,
   "metadata": {},
   "outputs": [],
   "source": []
  },
  {
   "cell_type": "code",
   "execution_count": null,
   "metadata": {},
   "outputs": [],
   "source": []
  },
  {
   "cell_type": "code",
   "execution_count": null,
   "metadata": {},
   "outputs": [],
   "source": []
  },
  {
   "cell_type": "markdown",
   "metadata": {},
   "source": []
  },
  {
   "cell_type": "code",
   "execution_count": 2,
   "metadata": {},
   "outputs": [
    {
     "name": "stdout",
     "output_type": "stream",
     "text": [
      "Collecting pillow==4.1.1\n",
      "  Downloading Pillow-4.1.1.tar.gz (11.3 MB)\n",
      "Requirement already satisfied: olefile in c:\\users\\jonas\\miniconda3\\lib\\site-packages (from pillow==4.1.1) (0.46)\n",
      "Building wheels for collected packages: pillow\n",
      "  Building wheel for pillow (setup.py): started\n",
      "  Building wheel for pillow (setup.py): finished with status 'error'\n",
      "  Running setup.py clean for pillow\n",
      "Failed to build pillow\n",
      "Installing collected packages: pillow\n",
      "  Attempting uninstall: pillow\n",
      "    Found existing installation: Pillow 8.0.1\n",
      "    Uninstalling Pillow-8.0.1:\n",
      "      Successfully uninstalled Pillow-8.0.1\n",
      "    Running setup.py install for pillow: started\n",
      "    Running setup.py install for pillow: finished with status 'error'\n",
      "  Rolling back uninstall of Pillow\n",
      "  Moving to c:\\users\\jonas\\miniconda3\\lib\\site-packages\\pil\\__init__.py\n",
      "   from C:\\Users\\jonas\\AppData\\Local\\Temp\\pip-uninstall-35o0udpc\\__init__.py\n",
      "  Moving to c:\\users\\jonas\\miniconda3\\lib\\site-packages\\pil\\__main__.py\n",
      "   from C:\\Users\\jonas\\AppData\\Local\\Temp\\pip-uninstall-35o0udpc\\__main__.py\n",
      "  Moving to c:\\users\\jonas\\miniconda3\\lib\\site-packages\\pil\\__pycache__\\\n",
      "   from C:\\Users\\jonas\\miniconda3\\Lib\\site-packages\\PIL\\~_pycache__\n",
      "  Moving to c:\\users\\jonas\\miniconda3\\lib\\site-packages\\pil\\_binary.py\n",
      "   from C:\\Users\\jonas\\AppData\\Local\\Temp\\pip-uninstall-35o0udpc\\_binary.py\n",
      "  Moving to c:\\users\\jonas\\miniconda3\\lib\\site-packages\\pil\\_imaging.cp38-win_amd64.pyd\n",
      "   from C:\\Users\\jonas\\AppData\\Local\\Temp\\pip-uninstall-35o0udpc\\_imaging.cp38-win_amd64.pyd\n",
      "  Moving to c:\\users\\jonas\\miniconda3\\lib\\site-packages\\pil\\_imagingft.cp38-win_amd64.pyd\n",
      "   from C:\\Users\\jonas\\AppData\\Local\\Temp\\pip-uninstall-35o0udpc\\_imagingft.cp38-win_amd64.pyd\n",
      "  Moving to c:\\users\\jonas\\miniconda3\\lib\\site-packages\\pil\\_imagingmath.cp38-win_amd64.pyd\n",
      "   from C:\\Users\\jonas\\AppData\\Local\\Temp\\pip-uninstall-35o0udpc\\_imagingmath.cp38-win_amd64.pyd\n",
      "  Moving to c:\\users\\jonas\\miniconda3\\lib\\site-packages\\pil\\_imagingmorph.cp38-win_amd64.pyd\n",
      "   from C:\\Users\\jonas\\AppData\\Local\\Temp\\pip-uninstall-35o0udpc\\_imagingmorph.cp38-win_amd64.pyd\n",
      "  Moving to c:\\users\\jonas\\miniconda3\\lib\\site-packages\\pil\\_imagingtk.cp38-win_amd64.pyd\n",
      "   from C:\\Users\\jonas\\AppData\\Local\\Temp\\pip-uninstall-35o0udpc\\_imagingtk.cp38-win_amd64.pyd\n",
      "  Moving to c:\\users\\jonas\\miniconda3\\lib\\site-packages\\pil\\_tkinter_finder.py\n",
      "   from C:\\Users\\jonas\\AppData\\Local\\Temp\\pip-uninstall-35o0udpc\\_tkinter_finder.py\n",
      "  Moving to c:\\users\\jonas\\miniconda3\\lib\\site-packages\\pil\\_util.py\n",
      "   from C:\\Users\\jonas\\AppData\\Local\\Temp\\pip-uninstall-35o0udpc\\_util.py\n",
      "  Moving to c:\\users\\jonas\\miniconda3\\lib\\site-packages\\pil\\_version.py\n",
      "   from C:\\Users\\jonas\\AppData\\Local\\Temp\\pip-uninstall-35o0udpc\\_version.py\n",
      "  Moving to c:\\users\\jonas\\miniconda3\\lib\\site-packages\\pil\\bdffontfile.py\n",
      "   from C:\\Users\\jonas\\AppData\\Local\\Temp\\pip-uninstall-35o0udpc\\bdffontfile.py\n",
      "  Moving to c:\\users\\jonas\\miniconda3\\lib\\site-packages\\pil\\blpimageplugin.py\n",
      "   from C:\\Users\\jonas\\AppData\\Local\\Temp\\pip-uninstall-35o0udpc\\blpimageplugin.py\n",
      "  Moving to c:\\users\\jonas\\miniconda3\\lib\\site-packages\\pil\\bmpimageplugin.py\n",
      "   from C:\\Users\\jonas\\AppData\\Local\\Temp\\pip-uninstall-35o0udpc\\bmpimageplugin.py\n",
      "  Moving to c:\\users\\jonas\\miniconda3\\lib\\site-packages\\pil\\bufrstubimageplugin.py\n",
      "   from C:\\Users\\jonas\\AppData\\Local\\Temp\\pip-uninstall-35o0udpc\\bufrstubimageplugin.py\n",
      "  Moving to c:\\users\\jonas\\miniconda3\\lib\\site-packages\\pil\\containerio.py\n",
      "   from C:\\Users\\jonas\\AppData\\Local\\Temp\\pip-uninstall-35o0udpc\\containerio.py\n",
      "  Moving to c:\\users\\jonas\\miniconda3\\lib\\site-packages\\pil\\curimageplugin.py\n",
      "   from C:\\Users\\jonas\\AppData\\Local\\Temp\\pip-uninstall-35o0udpc\\curimageplugin.py\n",
      "  Moving to c:\\users\\jonas\\miniconda3\\lib\\site-packages\\pil\\dcximageplugin.py\n",
      "   from C:\\Users\\jonas\\AppData\\Local\\Temp\\pip-uninstall-35o0udpc\\dcximageplugin.py\n",
      "  Moving to c:\\users\\jonas\\miniconda3\\lib\\site-packages\\pil\\ddsimageplugin.py\n",
      "   from C:\\Users\\jonas\\AppData\\Local\\Temp\\pip-uninstall-35o0udpc\\ddsimageplugin.py\n",
      "  Moving to c:\\users\\jonas\\miniconda3\\lib\\site-packages\\pil\\epsimageplugin.py\n",
      "   from C:\\Users\\jonas\\AppData\\Local\\Temp\\pip-uninstall-35o0udpc\\epsimageplugin.py\n",
      "  Moving to c:\\users\\jonas\\miniconda3\\lib\\site-packages\\pil\\exiftags.py\n",
      "   from C:\\Users\\jonas\\AppData\\Local\\Temp\\pip-uninstall-35o0udpc\\exiftags.py\n",
      "  Moving to c:\\users\\jonas\\miniconda3\\lib\\site-packages\\pil\\features.py\n",
      "   from C:\\Users\\jonas\\AppData\\Local\\Temp\\pip-uninstall-35o0udpc\\features.py\n",
      "  Moving to c:\\users\\jonas\\miniconda3\\lib\\site-packages\\pil\\fitsstubimageplugin.py\n",
      "   from C:\\Users\\jonas\\AppData\\Local\\Temp\\pip-uninstall-35o0udpc\\fitsstubimageplugin.py\n",
      "  Moving to c:\\users\\jonas\\miniconda3\\lib\\site-packages\\pil\\fliimageplugin.py\n",
      "   from C:\\Users\\jonas\\AppData\\Local\\Temp\\pip-uninstall-35o0udpc\\fliimageplugin.py\n",
      "  Moving to c:\\users\\jonas\\miniconda3\\lib\\site-packages\\pil\\fontfile.py\n",
      "   from C:\\Users\\jonas\\AppData\\Local\\Temp\\pip-uninstall-35o0udpc\\fontfile.py\n",
      "  Moving to c:\\users\\jonas\\miniconda3\\lib\\site-packages\\pil\\fpximageplugin.py\n",
      "   from C:\\Users\\jonas\\AppData\\Local\\Temp\\pip-uninstall-35o0udpc\\fpximageplugin.py\n",
      "  Moving to c:\\users\\jonas\\miniconda3\\lib\\site-packages\\pil\\fteximageplugin.py\n",
      "   from C:\\Users\\jonas\\AppData\\Local\\Temp\\pip-uninstall-35o0udpc\\fteximageplugin.py\n",
      "  Moving to c:\\users\\jonas\\miniconda3\\lib\\site-packages\\pil\\gbrimageplugin.py\n",
      "   from C:\\Users\\jonas\\AppData\\Local\\Temp\\pip-uninstall-35o0udpc\\gbrimageplugin.py\n",
      "  Moving to c:\\users\\jonas\\miniconda3\\lib\\site-packages\\pil\\gdimagefile.py\n",
      "   from C:\\Users\\jonas\\AppData\\Local\\Temp\\pip-uninstall-35o0udpc\\gdimagefile.py\n",
      "  Moving to c:\\users\\jonas\\miniconda3\\lib\\site-packages\\pil\\gifimageplugin.py\n",
      "   from C:\\Users\\jonas\\AppData\\Local\\Temp\\pip-uninstall-35o0udpc\\gifimageplugin.py\n",
      "  Moving to c:\\users\\jonas\\miniconda3\\lib\\site-packages\\pil\\gimpgradientfile.py\n",
      "   from C:\\Users\\jonas\\AppData\\Local\\Temp\\pip-uninstall-35o0udpc\\gimpgradientfile.py\n",
      "  Moving to c:\\users\\jonas\\miniconda3\\lib\\site-packages\\pil\\gimppalettefile.py\n",
      "   from C:\\Users\\jonas\\AppData\\Local\\Temp\\pip-uninstall-35o0udpc\\gimppalettefile.py\n",
      "  Moving to c:\\users\\jonas\\miniconda3\\lib\\site-packages\\pil\\gribstubimageplugin.py\n",
      "   from C:\\Users\\jonas\\AppData\\Local\\Temp\\pip-uninstall-35o0udpc\\gribstubimageplugin.py\n",
      "  Moving to c:\\users\\jonas\\miniconda3\\lib\\site-packages\\pil\\hdf5stubimageplugin.py\n",
      "   from C:\\Users\\jonas\\AppData\\Local\\Temp\\pip-uninstall-35o0udpc\\hdf5stubimageplugin.py\n",
      "  Moving to c:\\users\\jonas\\miniconda3\\lib\\site-packages\\pil\\icnsimageplugin.py\n",
      "   from C:\\Users\\jonas\\AppData\\Local\\Temp\\pip-uninstall-35o0udpc\\icnsimageplugin.py\n",
      "  Moving to c:\\users\\jonas\\miniconda3\\lib\\site-packages\\pil\\icoimageplugin.py\n",
      "   from C:\\Users\\jonas\\AppData\\Local\\Temp\\pip-uninstall-35o0udpc\\icoimageplugin.py\n",
      "  Moving to c:\\users\\jonas\\miniconda3\\lib\\site-packages\\pil\\image.py\n",
      "   from C:\\Users\\jonas\\AppData\\Local\\Temp\\pip-uninstall-35o0udpc\\image.py\n",
      "  Moving to c:\\users\\jonas\\miniconda3\\lib\\site-packages\\pil\\imagechops.py\n",
      "   from C:\\Users\\jonas\\AppData\\Local\\Temp\\pip-uninstall-35o0udpc\\imagechops.py\n",
      "  Moving to c:\\users\\jonas\\miniconda3\\lib\\site-packages\\pil\\imagecms.py\n",
      "   from C:\\Users\\jonas\\AppData\\Local\\Temp\\pip-uninstall-35o0udpc\\imagecms.py\n",
      "  Moving to c:\\users\\jonas\\miniconda3\\lib\\site-packages\\pil\\imagecolor.py\n",
      "   from C:\\Users\\jonas\\AppData\\Local\\Temp\\pip-uninstall-35o0udpc\\imagecolor.py\n",
      "  Moving to c:\\users\\jonas\\miniconda3\\lib\\site-packages\\pil\\imagedraw.py\n",
      "   from C:\\Users\\jonas\\AppData\\Local\\Temp\\pip-uninstall-35o0udpc\\imagedraw.py\n",
      "  Moving to c:\\users\\jonas\\miniconda3\\lib\\site-packages\\pil\\imagedraw2.py\n",
      "   from C:\\Users\\jonas\\AppData\\Local\\Temp\\pip-uninstall-35o0udpc\\imagedraw2.py\n",
      "  Moving to c:\\users\\jonas\\miniconda3\\lib\\site-packages\\pil\\imageenhance.py\n",
      "   from C:\\Users\\jonas\\AppData\\Local\\Temp\\pip-uninstall-35o0udpc\\imageenhance.py\n",
      "  Moving to c:\\users\\jonas\\miniconda3\\lib\\site-packages\\pil\\imagefile.py\n",
      "   from C:\\Users\\jonas\\AppData\\Local\\Temp\\pip-uninstall-35o0udpc\\imagefile.py\n",
      "  Moving to c:\\users\\jonas\\miniconda3\\lib\\site-packages\\pil\\imagefilter.py\n",
      "   from C:\\Users\\jonas\\AppData\\Local\\Temp\\pip-uninstall-35o0udpc\\imagefilter.py\n",
      "  Moving to c:\\users\\jonas\\miniconda3\\lib\\site-packages\\pil\\imagefont.py\n",
      "   from C:\\Users\\jonas\\AppData\\Local\\Temp\\pip-uninstall-35o0udpc\\imagefont.py\n",
      "  Moving to c:\\users\\jonas\\miniconda3\\lib\\site-packages\\pil\\imagegrab.py\n",
      "   from C:\\Users\\jonas\\AppData\\Local\\Temp\\pip-uninstall-35o0udpc\\imagegrab.py\n",
      "  Moving to c:\\users\\jonas\\miniconda3\\lib\\site-packages\\pil\\imagemath.py\n",
      "   from C:\\Users\\jonas\\AppData\\Local\\Temp\\pip-uninstall-35o0udpc\\imagemath.py\n",
      "  Moving to c:\\users\\jonas\\miniconda3\\lib\\site-packages\\pil\\imagemode.py\n",
      "   from C:\\Users\\jonas\\AppData\\Local\\Temp\\pip-uninstall-35o0udpc\\imagemode.py\n",
      "  Moving to c:\\users\\jonas\\miniconda3\\lib\\site-packages\\pil\\imagemorph.py\n",
      "   from C:\\Users\\jonas\\AppData\\Local\\Temp\\pip-uninstall-35o0udpc\\imagemorph.py\n",
      "  Moving to c:\\users\\jonas\\miniconda3\\lib\\site-packages\\pil\\imageops.py\n",
      "   from C:\\Users\\jonas\\AppData\\Local\\Temp\\pip-uninstall-35o0udpc\\imageops.py\n",
      "  Moving to c:\\users\\jonas\\miniconda3\\lib\\site-packages\\pil\\imagepalette.py\n",
      "   from C:\\Users\\jonas\\AppData\\Local\\Temp\\pip-uninstall-35o0udpc\\imagepalette.py\n",
      "  Moving to c:\\users\\jonas\\miniconda3\\lib\\site-packages\\pil\\imagepath.py\n",
      "   from C:\\Users\\jonas\\AppData\\Local\\Temp\\pip-uninstall-35o0udpc\\imagepath.py\n",
      "  Moving to c:\\users\\jonas\\miniconda3\\lib\\site-packages\\pil\\imageqt.py\n",
      "   from C:\\Users\\jonas\\AppData\\Local\\Temp\\pip-uninstall-35o0udpc\\imageqt.py\n",
      "  Moving to c:\\users\\jonas\\miniconda3\\lib\\site-packages\\pil\\imagesequence.py\n",
      "   from C:\\Users\\jonas\\AppData\\Local\\Temp\\pip-uninstall-35o0udpc\\imagesequence.py\n",
      "  Moving to c:\\users\\jonas\\miniconda3\\lib\\site-packages\\pil\\imageshow.py\n",
      "   from C:\\Users\\jonas\\AppData\\Local\\Temp\\pip-uninstall-35o0udpc\\imageshow.py\n",
      "  Moving to c:\\users\\jonas\\miniconda3\\lib\\site-packages\\pil\\imagestat.py\n",
      "   from C:\\Users\\jonas\\AppData\\Local\\Temp\\pip-uninstall-35o0udpc\\imagestat.py\n",
      "  Moving to c:\\users\\jonas\\miniconda3\\lib\\site-packages\\pil\\imagetk.py\n",
      "   from C:\\Users\\jonas\\AppData\\Local\\Temp\\pip-uninstall-35o0udpc\\imagetk.py\n",
      "  Moving to c:\\users\\jonas\\miniconda3\\lib\\site-packages\\pil\\imagetransform.py\n",
      "   from C:\\Users\\jonas\\AppData\\Local\\Temp\\pip-uninstall-35o0udpc\\imagetransform.py\n",
      "  Moving to c:\\users\\jonas\\miniconda3\\lib\\site-packages\\pil\\imagewin.py\n",
      "   from C:\\Users\\jonas\\AppData\\Local\\Temp\\pip-uninstall-35o0udpc\\imagewin.py\n",
      "  Moving to c:\\users\\jonas\\miniconda3\\lib\\site-packages\\pil\\imimageplugin.py\n",
      "   from C:\\Users\\jonas\\AppData\\Local\\Temp\\pip-uninstall-35o0udpc\\imimageplugin.py\n",
      "  Moving to c:\\users\\jonas\\miniconda3\\lib\\site-packages\\pil\\imtimageplugin.py\n",
      "   from C:\\Users\\jonas\\AppData\\Local\\Temp\\pip-uninstall-35o0udpc\\imtimageplugin.py\n",
      "  Moving to c:\\users\\jonas\\miniconda3\\lib\\site-packages\\pil\\iptcimageplugin.py\n",
      "   from C:\\Users\\jonas\\AppData\\Local\\Temp\\pip-uninstall-35o0udpc\\iptcimageplugin.py\n",
      "  Moving to c:\\users\\jonas\\miniconda3\\lib\\site-packages\\pil\\jpeg2kimageplugin.py\n",
      "   from C:\\Users\\jonas\\AppData\\Local\\Temp\\pip-uninstall-35o0udpc\\jpeg2kimageplugin.py\n",
      "  Moving to c:\\users\\jonas\\miniconda3\\lib\\site-packages\\pil\\jpegimageplugin.py\n",
      "   from C:\\Users\\jonas\\AppData\\Local\\Temp\\pip-uninstall-35o0udpc\\jpegimageplugin.py\n",
      "  Moving to c:\\users\\jonas\\miniconda3\\lib\\site-packages\\pil\\jpegpresets.py\n",
      "   from C:\\Users\\jonas\\AppData\\Local\\Temp\\pip-uninstall-35o0udpc\\jpegpresets.py\n",
      "  Moving to c:\\users\\jonas\\miniconda3\\lib\\site-packages\\pil\\mcidasimageplugin.py\n",
      "   from C:\\Users\\jonas\\AppData\\Local\\Temp\\pip-uninstall-35o0udpc\\mcidasimageplugin.py\n",
      "  Moving to c:\\users\\jonas\\miniconda3\\lib\\site-packages\\pil\\micimageplugin.py\n",
      "   from C:\\Users\\jonas\\AppData\\Local\\Temp\\pip-uninstall-35o0udpc\\micimageplugin.py\n",
      "  Moving to c:\\users\\jonas\\miniconda3\\lib\\site-packages\\pil\\mpegimageplugin.py\n",
      "   from C:\\Users\\jonas\\AppData\\Local\\Temp\\pip-uninstall-35o0udpc\\mpegimageplugin.py\n",
      "  Moving to c:\\users\\jonas\\miniconda3\\lib\\site-packages\\pil\\mpoimageplugin.py\n",
      "   from C:\\Users\\jonas\\AppData\\Local\\Temp\\pip-uninstall-35o0udpc\\mpoimageplugin.py\n",
      "  Moving to c:\\users\\jonas\\miniconda3\\lib\\site-packages\\pil\\mspimageplugin.py\n",
      "   from C:\\Users\\jonas\\AppData\\Local\\Temp\\pip-uninstall-35o0udpc\\mspimageplugin.py\n",
      "  Moving to c:\\users\\jonas\\miniconda3\\lib\\site-packages\\pil\\palettefile.py\n",
      "   from C:\\Users\\jonas\\AppData\\Local\\Temp\\pip-uninstall-35o0udpc\\palettefile.py\n",
      "  Moving to c:\\users\\jonas\\miniconda3\\lib\\site-packages\\pil\\palmimageplugin.py\n",
      "   from C:\\Users\\jonas\\AppData\\Local\\Temp\\pip-uninstall-35o0udpc\\palmimageplugin.py\n",
      "  Moving to c:\\users\\jonas\\miniconda3\\lib\\site-packages\\pil\\pcdimageplugin.py\n",
      "   from C:\\Users\\jonas\\AppData\\Local\\Temp\\pip-uninstall-35o0udpc\\pcdimageplugin.py\n",
      "  Moving to c:\\users\\jonas\\miniconda3\\lib\\site-packages\\pil\\pcffontfile.py\n",
      "   from C:\\Users\\jonas\\AppData\\Local\\Temp\\pip-uninstall-35o0udpc\\pcffontfile.py\n",
      "  Moving to c:\\users\\jonas\\miniconda3\\lib\\site-packages\\pil\\pcximageplugin.py\n",
      "   from C:\\Users\\jonas\\AppData\\Local\\Temp\\pip-uninstall-35o0udpc\\pcximageplugin.py\n",
      "  Moving to c:\\users\\jonas\\miniconda3\\lib\\site-packages\\pil\\pdfimageplugin.py\n",
      "   from C:\\Users\\jonas\\AppData\\Local\\Temp\\pip-uninstall-35o0udpc\\pdfimageplugin.py\n",
      "  Moving to c:\\users\\jonas\\miniconda3\\lib\\site-packages\\pil\\pdfparser.py\n",
      "   from C:\\Users\\jonas\\AppData\\Local\\Temp\\pip-uninstall-35o0udpc\\pdfparser.py\n",
      "  Moving to c:\\users\\jonas\\miniconda3\\lib\\site-packages\\pil\\pixarimageplugin.py\n",
      "   from C:\\Users\\jonas\\AppData\\Local\\Temp\\pip-uninstall-35o0udpc\\pixarimageplugin.py\n",
      "  Moving to c:\\users\\jonas\\miniconda3\\lib\\site-packages\\pil\\pngimageplugin.py\n",
      "   from C:\\Users\\jonas\\AppData\\Local\\Temp\\pip-uninstall-35o0udpc\\pngimageplugin.py\n",
      "  Moving to c:\\users\\jonas\\miniconda3\\lib\\site-packages\\pil\\ppmimageplugin.py\n",
      "   from C:\\Users\\jonas\\AppData\\Local\\Temp\\pip-uninstall-35o0udpc\\ppmimageplugin.py\n",
      "  Moving to c:\\users\\jonas\\miniconda3\\lib\\site-packages\\pil\\psdimageplugin.py\n",
      "   from C:\\Users\\jonas\\AppData\\Local\\Temp\\pip-uninstall-35o0udpc\\psdimageplugin.py\n",
      "  Moving to c:\\users\\jonas\\miniconda3\\lib\\site-packages\\pil\\psdraw.py\n",
      "   from C:\\Users\\jonas\\AppData\\Local\\Temp\\pip-uninstall-35o0udpc\\psdraw.py\n",
      "  Moving to c:\\users\\jonas\\miniconda3\\lib\\site-packages\\pil\\pyaccess.py\n",
      "   from C:\\Users\\jonas\\AppData\\Local\\Temp\\pip-uninstall-35o0udpc\\pyaccess.py\n",
      "  Moving to c:\\users\\jonas\\miniconda3\\lib\\site-packages\\pil\\sgiimageplugin.py\n",
      "   from C:\\Users\\jonas\\AppData\\Local\\Temp\\pip-uninstall-35o0udpc\\sgiimageplugin.py\n",
      "  Moving to c:\\users\\jonas\\miniconda3\\lib\\site-packages\\pil\\spiderimageplugin.py\n",
      "   from C:\\Users\\jonas\\AppData\\Local\\Temp\\pip-uninstall-35o0udpc\\spiderimageplugin.py\n",
      "  Moving to c:\\users\\jonas\\miniconda3\\lib\\site-packages\\pil\\sunimageplugin.py\n",
      "   from C:\\Users\\jonas\\AppData\\Local\\Temp\\pip-uninstall-35o0udpc\\sunimageplugin.py\n",
      "  Moving to c:\\users\\jonas\\miniconda3\\lib\\site-packages\\pil\\tario.py\n",
      "   from C:\\Users\\jonas\\AppData\\Local\\Temp\\pip-uninstall-35o0udpc\\tario.py\n",
      "  Moving to c:\\users\\jonas\\miniconda3\\lib\\site-packages\\pil\\tgaimageplugin.py\n",
      "   from C:\\Users\\jonas\\AppData\\Local\\Temp\\pip-uninstall-35o0udpc\\tgaimageplugin.py\n",
      "  Moving to c:\\users\\jonas\\miniconda3\\lib\\site-packages\\pil\\tiffimageplugin.py\n",
      "   from C:\\Users\\jonas\\AppData\\Local\\Temp\\pip-uninstall-35o0udpc\\tiffimageplugin.py\n",
      "  Moving to c:\\users\\jonas\\miniconda3\\lib\\site-packages\\pil\\tifftags.py\n",
      "   from C:\\Users\\jonas\\AppData\\Local\\Temp\\pip-uninstall-35o0udpc\\tifftags.py\n",
      "  Moving to c:\\users\\jonas\\miniconda3\\lib\\site-packages\\pil\\walimagefile.py\n",
      "   from C:\\Users\\jonas\\AppData\\Local\\Temp\\pip-uninstall-35o0udpc\\walimagefile.py\n",
      "  Moving to c:\\users\\jonas\\miniconda3\\lib\\site-packages\\pil\\webpimageplugin.py\n",
      "   from C:\\Users\\jonas\\AppData\\Local\\Temp\\pip-uninstall-35o0udpc\\webpimageplugin.py\n",
      "  Moving to c:\\users\\jonas\\miniconda3\\lib\\site-packages\\pil\\wmfimageplugin.py\n",
      "   from C:\\Users\\jonas\\AppData\\Local\\Temp\\pip-uninstall-35o0udpc\\wmfimageplugin.py\n",
      "  Moving to c:\\users\\jonas\\miniconda3\\lib\\site-packages\\pil\\xbmimageplugin.py\n",
      "   from C:\\Users\\jonas\\AppData\\Local\\Temp\\pip-uninstall-35o0udpc\\xbmimageplugin.py\n",
      "  Moving to c:\\users\\jonas\\miniconda3\\lib\\site-packages\\pil\\xpmimageplugin.py\n",
      "   from C:\\Users\\jonas\\AppData\\Local\\Temp\\pip-uninstall-35o0udpc\\xpmimageplugin.py\n",
      "  Moving to c:\\users\\jonas\\miniconda3\\lib\\site-packages\\pil\\xvthumbimageplugin.py\n",
      "   from C:\\Users\\jonas\\AppData\\Local\\Temp\\pip-uninstall-35o0udpc\\xvthumbimageplugin.py\n",
      "  Moving to c:\\users\\jonas\\miniconda3\\lib\\site-packages\\pillow-8.0.1.dist-info\\\n",
      "   from C:\\Users\\jonas\\miniconda3\\Lib\\site-packages\\~illow-8.0.1.dist-info\n"
     ]
    },
    {
     "name": "stderr",
     "output_type": "stream",
     "text": [
      "  ERROR: Command errored out with exit status 1:\n",
      "   command: 'c:\\users\\jonas\\miniconda3\\python.exe' -u -c 'import sys, setuptools, tokenize; sys.argv[0] = '\"'\"'C:\\\\Users\\\\jonas\\\\AppData\\\\Local\\\\Temp\\\\pip-install-5u_acvvq\\\\pillow\\\\setup.py'\"'\"'; __file__='\"'\"'C:\\\\Users\\\\jonas\\\\AppData\\\\Local\\\\Temp\\\\pip-install-5u_acvvq\\\\pillow\\\\setup.py'\"'\"';f=getattr(tokenize, '\"'\"'open'\"'\"', open)(__file__);code=f.read().replace('\"'\"'\\r\\n'\"'\"', '\"'\"'\\n'\"'\"');f.close();exec(compile(code, __file__, '\"'\"'exec'\"'\"'))' bdist_wheel -d 'C:\\Users\\jonas\\AppData\\Local\\Temp\\pip-wheel-62aeob41'\n",
      "       cwd: C:\\Users\\jonas\\AppData\\Local\\Temp\\pip-install-5u_acvvq\\pillow\\\n",
      "  Complete output (170 lines):\n",
      "  Single threaded build for windows\n",
      "  running bdist_wheel\n",
      "  running build\n",
      "  running build_py\n",
      "  creating build\n",
      "  creating build\\lib.win-amd64-3.8\n",
      "  creating build\\lib.win-amd64-3.8\\PIL\n",
      "  copying PIL\\BdfFontFile.py -> build\\lib.win-amd64-3.8\\PIL\n",
      "  copying PIL\\BmpImagePlugin.py -> build\\lib.win-amd64-3.8\\PIL\n",
      "  copying PIL\\BufrStubImagePlugin.py -> build\\lib.win-amd64-3.8\\PIL\n",
      "  copying PIL\\ContainerIO.py -> build\\lib.win-amd64-3.8\\PIL\n",
      "  copying PIL\\CurImagePlugin.py -> build\\lib.win-amd64-3.8\\PIL\n",
      "  copying PIL\\DcxImagePlugin.py -> build\\lib.win-amd64-3.8\\PIL\n",
      "  copying PIL\\DdsImagePlugin.py -> build\\lib.win-amd64-3.8\\PIL\n",
      "  copying PIL\\EpsImagePlugin.py -> build\\lib.win-amd64-3.8\\PIL\n",
      "  copying PIL\\ExifTags.py -> build\\lib.win-amd64-3.8\\PIL\n",
      "  copying PIL\\features.py -> build\\lib.win-amd64-3.8\\PIL\n",
      "  copying PIL\\FitsStubImagePlugin.py -> build\\lib.win-amd64-3.8\\PIL\n",
      "  copying PIL\\FliImagePlugin.py -> build\\lib.win-amd64-3.8\\PIL\n",
      "  copying PIL\\FontFile.py -> build\\lib.win-amd64-3.8\\PIL\n",
      "  copying PIL\\FpxImagePlugin.py -> build\\lib.win-amd64-3.8\\PIL\n",
      "  copying PIL\\FtexImagePlugin.py -> build\\lib.win-amd64-3.8\\PIL\n",
      "  copying PIL\\GbrImagePlugin.py -> build\\lib.win-amd64-3.8\\PIL\n",
      "  copying PIL\\GdImageFile.py -> build\\lib.win-amd64-3.8\\PIL\n",
      "  copying PIL\\GifImagePlugin.py -> build\\lib.win-amd64-3.8\\PIL\n",
      "  copying PIL\\GimpGradientFile.py -> build\\lib.win-amd64-3.8\\PIL\n",
      "  copying PIL\\GimpPaletteFile.py -> build\\lib.win-amd64-3.8\\PIL\n",
      "  copying PIL\\GribStubImagePlugin.py -> build\\lib.win-amd64-3.8\\PIL\n",
      "  copying PIL\\Hdf5StubImagePlugin.py -> build\\lib.win-amd64-3.8\\PIL\n",
      "  copying PIL\\IcnsImagePlugin.py -> build\\lib.win-amd64-3.8\\PIL\n",
      "  copying PIL\\IcoImagePlugin.py -> build\\lib.win-amd64-3.8\\PIL\n",
      "  copying PIL\\Image.py -> build\\lib.win-amd64-3.8\\PIL\n",
      "  copying PIL\\ImageChops.py -> build\\lib.win-amd64-3.8\\PIL\n",
      "  copying PIL\\ImageCms.py -> build\\lib.win-amd64-3.8\\PIL\n",
      "  copying PIL\\ImageColor.py -> build\\lib.win-amd64-3.8\\PIL\n",
      "  copying PIL\\ImageDraw.py -> build\\lib.win-amd64-3.8\\PIL\n",
      "  copying PIL\\ImageDraw2.py -> build\\lib.win-amd64-3.8\\PIL\n",
      "  copying PIL\\ImageEnhance.py -> build\\lib.win-amd64-3.8\\PIL\n",
      "  copying PIL\\ImageFile.py -> build\\lib.win-amd64-3.8\\PIL\n",
      "  copying PIL\\ImageFilter.py -> build\\lib.win-amd64-3.8\\PIL\n",
      "  copying PIL\\ImageFont.py -> build\\lib.win-amd64-3.8\\PIL\n",
      "  copying PIL\\ImageGrab.py -> build\\lib.win-amd64-3.8\\PIL\n",
      "  copying PIL\\ImageMath.py -> build\\lib.win-amd64-3.8\\PIL\n",
      "  copying PIL\\ImageMode.py -> build\\lib.win-amd64-3.8\\PIL\n",
      "  copying PIL\\ImageMorph.py -> build\\lib.win-amd64-3.8\\PIL\n",
      "  copying PIL\\ImageOps.py -> build\\lib.win-amd64-3.8\\PIL\n",
      "  copying PIL\\ImagePalette.py -> build\\lib.win-amd64-3.8\\PIL\n",
      "  copying PIL\\ImagePath.py -> build\\lib.win-amd64-3.8\\PIL\n",
      "  copying PIL\\ImageQt.py -> build\\lib.win-amd64-3.8\\PIL\n",
      "  copying PIL\\ImageSequence.py -> build\\lib.win-amd64-3.8\\PIL\n",
      "  copying PIL\\ImageShow.py -> build\\lib.win-amd64-3.8\\PIL\n",
      "  copying PIL\\ImageStat.py -> build\\lib.win-amd64-3.8\\PIL\n",
      "  copying PIL\\ImageTk.py -> build\\lib.win-amd64-3.8\\PIL\n",
      "  copying PIL\\ImageTransform.py -> build\\lib.win-amd64-3.8\\PIL\n",
      "  copying PIL\\ImageWin.py -> build\\lib.win-amd64-3.8\\PIL\n",
      "  copying PIL\\ImImagePlugin.py -> build\\lib.win-amd64-3.8\\PIL\n",
      "  copying PIL\\ImtImagePlugin.py -> build\\lib.win-amd64-3.8\\PIL\n",
      "  copying PIL\\IptcImagePlugin.py -> build\\lib.win-amd64-3.8\\PIL\n",
      "  copying PIL\\Jpeg2KImagePlugin.py -> build\\lib.win-amd64-3.8\\PIL\n",
      "  copying PIL\\JpegImagePlugin.py -> build\\lib.win-amd64-3.8\\PIL\n",
      "  copying PIL\\JpegPresets.py -> build\\lib.win-amd64-3.8\\PIL\n",
      "  copying PIL\\McIdasImagePlugin.py -> build\\lib.win-amd64-3.8\\PIL\n",
      "  copying PIL\\MicImagePlugin.py -> build\\lib.win-amd64-3.8\\PIL\n",
      "  copying PIL\\MpegImagePlugin.py -> build\\lib.win-amd64-3.8\\PIL\n",
      "  copying PIL\\MpoImagePlugin.py -> build\\lib.win-amd64-3.8\\PIL\n",
      "  copying PIL\\MspImagePlugin.py -> build\\lib.win-amd64-3.8\\PIL\n",
      "  copying PIL\\OleFileIO.py -> build\\lib.win-amd64-3.8\\PIL\n",
      "  copying PIL\\PaletteFile.py -> build\\lib.win-amd64-3.8\\PIL\n",
      "  copying PIL\\PalmImagePlugin.py -> build\\lib.win-amd64-3.8\\PIL\n",
      "  copying PIL\\PcdImagePlugin.py -> build\\lib.win-amd64-3.8\\PIL\n",
      "  copying PIL\\PcfFontFile.py -> build\\lib.win-amd64-3.8\\PIL\n",
      "  copying PIL\\PcxImagePlugin.py -> build\\lib.win-amd64-3.8\\PIL\n",
      "  copying PIL\\PdfImagePlugin.py -> build\\lib.win-amd64-3.8\\PIL\n",
      "  copying PIL\\PixarImagePlugin.py -> build\\lib.win-amd64-3.8\\PIL\n",
      "  copying PIL\\PngImagePlugin.py -> build\\lib.win-amd64-3.8\\PIL\n",
      "  copying PIL\\PpmImagePlugin.py -> build\\lib.win-amd64-3.8\\PIL\n",
      "  copying PIL\\PsdImagePlugin.py -> build\\lib.win-amd64-3.8\\PIL\n",
      "  copying PIL\\PSDraw.py -> build\\lib.win-amd64-3.8\\PIL\n",
      "  copying PIL\\PyAccess.py -> build\\lib.win-amd64-3.8\\PIL\n",
      "  copying PIL\\SgiImagePlugin.py -> build\\lib.win-amd64-3.8\\PIL\n",
      "  copying PIL\\SpiderImagePlugin.py -> build\\lib.win-amd64-3.8\\PIL\n",
      "  copying PIL\\SunImagePlugin.py -> build\\lib.win-amd64-3.8\\PIL\n",
      "  copying PIL\\TarIO.py -> build\\lib.win-amd64-3.8\\PIL\n",
      "  copying PIL\\TgaImagePlugin.py -> build\\lib.win-amd64-3.8\\PIL\n",
      "  copying PIL\\TiffImagePlugin.py -> build\\lib.win-amd64-3.8\\PIL\n",
      "  copying PIL\\TiffTags.py -> build\\lib.win-amd64-3.8\\PIL\n",
      "  copying PIL\\WalImageFile.py -> build\\lib.win-amd64-3.8\\PIL\n",
      "  copying PIL\\WebPImagePlugin.py -> build\\lib.win-amd64-3.8\\PIL\n",
      "  copying PIL\\WmfImagePlugin.py -> build\\lib.win-amd64-3.8\\PIL\n",
      "  copying PIL\\XbmImagePlugin.py -> build\\lib.win-amd64-3.8\\PIL\n",
      "  copying PIL\\XpmImagePlugin.py -> build\\lib.win-amd64-3.8\\PIL\n",
      "  copying PIL\\XVThumbImagePlugin.py -> build\\lib.win-amd64-3.8\\PIL\n",
      "  copying PIL\\_binary.py -> build\\lib.win-amd64-3.8\\PIL\n",
      "  copying PIL\\_tkinter_finder.py -> build\\lib.win-amd64-3.8\\PIL\n",
      "  copying PIL\\_util.py -> build\\lib.win-amd64-3.8\\PIL\n",
      "  copying PIL\\__init__.py -> build\\lib.win-amd64-3.8\\PIL\n",
      "  running egg_info\n",
      "  writing Pillow.egg-info\\PKG-INFO\n",
      "  writing dependency_links to Pillow.egg-info\\dependency_links.txt\n",
      "  writing requirements to Pillow.egg-info\\requires.txt\n",
      "  writing top-level names to Pillow.egg-info\\top_level.txt\n",
      "  reading manifest file 'Pillow.egg-info\\SOURCES.txt'\n",
      "  reading manifest template 'MANIFEST.in'\n",
      "  warning: no files found matching '*.sh'\n",
      "  no previously-included directories found matching 'docs\\_static'\n",
      "  warning: no previously-included files found matching '.coveragerc'\n",
      "  warning: no previously-included files found matching '.editorconfig'\n",
      "  warning: no previously-included files found matching '.landscape.yaml'\n",
      "  warning: no previously-included files found matching '.travis'\n",
      "  warning: no previously-included files found matching '.travis\\*'\n",
      "  warning: no previously-included files found matching 'appveyor.yml'\n",
      "  warning: no previously-included files found matching 'build_children.sh'\n",
      "  warning: no previously-included files found matching 'tox.ini'\n",
      "  warning: no previously-included files matching '.git*' found anywhere in distribution\n",
      "  warning: no previously-included files matching '*.pyc' found anywhere in distribution\n",
      "  warning: no previously-included files matching '*.so' found anywhere in distribution\n",
      "  writing manifest file 'Pillow.egg-info\\SOURCES.txt'\n",
      "  running build_ext\n",
      "  \n",
      "  \n",
      "  The headers or library files could not be found for zlib,\n",
      "  a required dependency when compiling Pillow from source.\n",
      "  \n",
      "  Please see the install instructions at:\n",
      "     https://pillow.readthedocs.io/en/latest/installation.html\n",
      "  \n",
      "  Traceback (most recent call last):\n",
      "    File \"C:\\Users\\jonas\\AppData\\Local\\Temp\\pip-install-5u_acvvq\\pillow\\setup.py\", line 711, in <module>\n",
      "      setup(name=NAME,\n",
      "    File \"c:\\users\\jonas\\miniconda3\\lib\\site-packages\\setuptools\\__init__.py\", line 144, in setup\n",
      "      return distutils.core.setup(**attrs)\n",
      "    File \"c:\\users\\jonas\\miniconda3\\lib\\distutils\\core.py\", line 148, in setup\n",
      "      dist.run_commands()\n",
      "    File \"c:\\users\\jonas\\miniconda3\\lib\\distutils\\dist.py\", line 966, in run_commands\n",
      "      self.run_command(cmd)\n",
      "    File \"c:\\users\\jonas\\miniconda3\\lib\\distutils\\dist.py\", line 985, in run_command\n",
      "      cmd_obj.run()\n",
      "    File \"c:\\users\\jonas\\miniconda3\\lib\\site-packages\\wheel\\bdist_wheel.py\", line 223, in run\n",
      "      self.run_command('build')\n",
      "    File \"c:\\users\\jonas\\miniconda3\\lib\\distutils\\cmd.py\", line 313, in run_command\n",
      "      self.distribution.run_command(command)\n",
      "    File \"c:\\users\\jonas\\miniconda3\\lib\\distutils\\dist.py\", line 985, in run_command\n",
      "      cmd_obj.run()\n",
      "    File \"c:\\users\\jonas\\miniconda3\\lib\\distutils\\command\\build.py\", line 135, in run\n",
      "      self.run_command(cmd_name)\n",
      "    File \"c:\\users\\jonas\\miniconda3\\lib\\distutils\\cmd.py\", line 313, in run_command\n",
      "      self.distribution.run_command(command)\n",
      "    File \"c:\\users\\jonas\\miniconda3\\lib\\distutils\\dist.py\", line 985, in run_command\n",
      "      cmd_obj.run()\n",
      "    File \"c:\\users\\jonas\\miniconda3\\lib\\distutils\\command\\build_ext.py\", line 340, in run\n",
      "      self.build_extensions()\n",
      "    File \"C:\\Users\\jonas\\AppData\\Local\\Temp\\pip-install-5u_acvvq\\pillow\\setup.py\", line 545, in build_extensions\n",
      "      raise RequiredDependencyException(f)\n",
      "  __main__.RequiredDependencyException: zlib\n",
      "  \n",
      "  During handling of the above exception, another exception occurred:\n",
      "  \n",
      "  Traceback (most recent call last):\n",
      "    File \"<string>\", line 1, in <module>\n",
      "    File \"C:\\Users\\jonas\\AppData\\Local\\Temp\\pip-install-5u_acvvq\\pillow\\setup.py\", line 756, in <module>\n",
      "      raise RequiredDependencyException(msg)\n",
      "  __main__.RequiredDependencyException:\n",
      "  \n",
      "  The headers or library files could not be found for zlib,\n",
      "  a required dependency when compiling Pillow from source.\n",
      "  \n",
      "  Please see the install instructions at:\n",
      "     https://pillow.readthedocs.io/en/latest/installation.html\n",
      "  \n",
      "  \n",
      "  ----------------------------------------\n",
      "  ERROR: Failed building wheel for pillow\n",
      "    ERROR: Command errored out with exit status 1:\n",
      "     command: 'c:\\users\\jonas\\miniconda3\\python.exe' -u -c 'import sys, setuptools, tokenize; sys.argv[0] = '\"'\"'C:\\\\Users\\\\jonas\\\\AppData\\\\Local\\\\Temp\\\\pip-install-5u_acvvq\\\\pillow\\\\setup.py'\"'\"'; __file__='\"'\"'C:\\\\Users\\\\jonas\\\\AppData\\\\Local\\\\Temp\\\\pip-install-5u_acvvq\\\\pillow\\\\setup.py'\"'\"';f=getattr(tokenize, '\"'\"'open'\"'\"', open)(__file__);code=f.read().replace('\"'\"'\\r\\n'\"'\"', '\"'\"'\\n'\"'\"');f.close();exec(compile(code, __file__, '\"'\"'exec'\"'\"'))' install --record 'C:\\Users\\jonas\\AppData\\Local\\Temp\\pip-record-rm0549tu\\install-record.txt' --single-version-externally-managed --compile --install-headers 'c:\\users\\jonas\\miniconda3\\Include\\pillow'\n",
      "         cwd: C:\\Users\\jonas\\AppData\\Local\\Temp\\pip-install-5u_acvvq\\pillow\\\n",
      "    Complete output (172 lines):\n",
      "    Single threaded build for windows\n",
      "    running install\n",
      "    running build\n",
      "    running build_py\n",
      "    creating build\n",
      "    creating build\\lib.win-amd64-3.8\n",
      "    creating build\\lib.win-amd64-3.8\\PIL\n",
      "    copying PIL\\BdfFontFile.py -> build\\lib.win-amd64-3.8\\PIL\n",
      "    copying PIL\\BmpImagePlugin.py -> build\\lib.win-amd64-3.8\\PIL\n",
      "    copying PIL\\BufrStubImagePlugin.py -> build\\lib.win-amd64-3.8\\PIL\n",
      "    copying PIL\\ContainerIO.py -> build\\lib.win-amd64-3.8\\PIL\n",
      "    copying PIL\\CurImagePlugin.py -> build\\lib.win-amd64-3.8\\PIL\n",
      "    copying PIL\\DcxImagePlugin.py -> build\\lib.win-amd64-3.8\\PIL\n",
      "    copying PIL\\DdsImagePlugin.py -> build\\lib.win-amd64-3.8\\PIL\n",
      "    copying PIL\\EpsImagePlugin.py -> build\\lib.win-amd64-3.8\\PIL\n",
      "    copying PIL\\ExifTags.py -> build\\lib.win-amd64-3.8\\PIL\n",
      "    copying PIL\\features.py -> build\\lib.win-amd64-3.8\\PIL\n",
      "    copying PIL\\FitsStubImagePlugin.py -> build\\lib.win-amd64-3.8\\PIL\n",
      "    copying PIL\\FliImagePlugin.py -> build\\lib.win-amd64-3.8\\PIL\n",
      "    copying PIL\\FontFile.py -> build\\lib.win-amd64-3.8\\PIL\n",
      "    copying PIL\\FpxImagePlugin.py -> build\\lib.win-amd64-3.8\\PIL\n",
      "    copying PIL\\FtexImagePlugin.py -> build\\lib.win-amd64-3.8\\PIL\n",
      "    copying PIL\\GbrImagePlugin.py -> build\\lib.win-amd64-3.8\\PIL\n",
      "    copying PIL\\GdImageFile.py -> build\\lib.win-amd64-3.8\\PIL\n",
      "    copying PIL\\GifImagePlugin.py -> build\\lib.win-amd64-3.8\\PIL\n",
      "    copying PIL\\GimpGradientFile.py -> build\\lib.win-amd64-3.8\\PIL\n",
      "    copying PIL\\GimpPaletteFile.py -> build\\lib.win-amd64-3.8\\PIL\n",
      "    copying PIL\\GribStubImagePlugin.py -> build\\lib.win-amd64-3.8\\PIL\n",
      "    copying PIL\\Hdf5StubImagePlugin.py -> build\\lib.win-amd64-3.8\\PIL\n",
      "    copying PIL\\IcnsImagePlugin.py -> build\\lib.win-amd64-3.8\\PIL\n",
      "    copying PIL\\IcoImagePlugin.py -> build\\lib.win-amd64-3.8\\PIL\n",
      "    copying PIL\\Image.py -> build\\lib.win-amd64-3.8\\PIL\n",
      "    copying PIL\\ImageChops.py -> build\\lib.win-amd64-3.8\\PIL\n",
      "    copying PIL\\ImageCms.py -> build\\lib.win-amd64-3.8\\PIL\n",
      "    copying PIL\\ImageColor.py -> build\\lib.win-amd64-3.8\\PIL\n",
      "    copying PIL\\ImageDraw.py -> build\\lib.win-amd64-3.8\\PIL\n",
      "    copying PIL\\ImageDraw2.py -> build\\lib.win-amd64-3.8\\PIL\n",
      "    copying PIL\\ImageEnhance.py -> build\\lib.win-amd64-3.8\\PIL\n",
      "    copying PIL\\ImageFile.py -> build\\lib.win-amd64-3.8\\PIL\n",
      "    copying PIL\\ImageFilter.py -> build\\lib.win-amd64-3.8\\PIL\n",
      "    copying PIL\\ImageFont.py -> build\\lib.win-amd64-3.8\\PIL\n",
      "    copying PIL\\ImageGrab.py -> build\\lib.win-amd64-3.8\\PIL\n",
      "    copying PIL\\ImageMath.py -> build\\lib.win-amd64-3.8\\PIL\n",
      "    copying PIL\\ImageMode.py -> build\\lib.win-amd64-3.8\\PIL\n",
      "    copying PIL\\ImageMorph.py -> build\\lib.win-amd64-3.8\\PIL\n",
      "    copying PIL\\ImageOps.py -> build\\lib.win-amd64-3.8\\PIL\n",
      "    copying PIL\\ImagePalette.py -> build\\lib.win-amd64-3.8\\PIL\n",
      "    copying PIL\\ImagePath.py -> build\\lib.win-amd64-3.8\\PIL\n",
      "    copying PIL\\ImageQt.py -> build\\lib.win-amd64-3.8\\PIL\n",
      "    copying PIL\\ImageSequence.py -> build\\lib.win-amd64-3.8\\PIL\n",
      "    copying PIL\\ImageShow.py -> build\\lib.win-amd64-3.8\\PIL\n",
      "    copying PIL\\ImageStat.py -> build\\lib.win-amd64-3.8\\PIL\n",
      "    copying PIL\\ImageTk.py -> build\\lib.win-amd64-3.8\\PIL\n",
      "    copying PIL\\ImageTransform.py -> build\\lib.win-amd64-3.8\\PIL\n",
      "    copying PIL\\ImageWin.py -> build\\lib.win-amd64-3.8\\PIL\n",
      "    copying PIL\\ImImagePlugin.py -> build\\lib.win-amd64-3.8\\PIL\n",
      "    copying PIL\\ImtImagePlugin.py -> build\\lib.win-amd64-3.8\\PIL\n",
      "    copying PIL\\IptcImagePlugin.py -> build\\lib.win-amd64-3.8\\PIL\n",
      "    copying PIL\\Jpeg2KImagePlugin.py -> build\\lib.win-amd64-3.8\\PIL\n",
      "    copying PIL\\JpegImagePlugin.py -> build\\lib.win-amd64-3.8\\PIL\n",
      "    copying PIL\\JpegPresets.py -> build\\lib.win-amd64-3.8\\PIL\n",
      "    copying PIL\\McIdasImagePlugin.py -> build\\lib.win-amd64-3.8\\PIL\n",
      "    copying PIL\\MicImagePlugin.py -> build\\lib.win-amd64-3.8\\PIL\n",
      "    copying PIL\\MpegImagePlugin.py -> build\\lib.win-amd64-3.8\\PIL\n",
      "    copying PIL\\MpoImagePlugin.py -> build\\lib.win-amd64-3.8\\PIL\n",
      "    copying PIL\\MspImagePlugin.py -> build\\lib.win-amd64-3.8\\PIL\n",
      "    copying PIL\\OleFileIO.py -> build\\lib.win-amd64-3.8\\PIL\n",
      "    copying PIL\\PaletteFile.py -> build\\lib.win-amd64-3.8\\PIL\n",
      "    copying PIL\\PalmImagePlugin.py -> build\\lib.win-amd64-3.8\\PIL\n",
      "    copying PIL\\PcdImagePlugin.py -> build\\lib.win-amd64-3.8\\PIL\n",
      "    copying PIL\\PcfFontFile.py -> build\\lib.win-amd64-3.8\\PIL\n",
      "    copying PIL\\PcxImagePlugin.py -> build\\lib.win-amd64-3.8\\PIL\n",
      "    copying PIL\\PdfImagePlugin.py -> build\\lib.win-amd64-3.8\\PIL\n",
      "    copying PIL\\PixarImagePlugin.py -> build\\lib.win-amd64-3.8\\PIL\n",
      "    copying PIL\\PngImagePlugin.py -> build\\lib.win-amd64-3.8\\PIL\n",
      "    copying PIL\\PpmImagePlugin.py -> build\\lib.win-amd64-3.8\\PIL\n",
      "    copying PIL\\PsdImagePlugin.py -> build\\lib.win-amd64-3.8\\PIL\n",
      "    copying PIL\\PSDraw.py -> build\\lib.win-amd64-3.8\\PIL\n",
      "    copying PIL\\PyAccess.py -> build\\lib.win-amd64-3.8\\PIL\n",
      "    copying PIL\\SgiImagePlugin.py -> build\\lib.win-amd64-3.8\\PIL\n",
      "    copying PIL\\SpiderImagePlugin.py -> build\\lib.win-amd64-3.8\\PIL\n",
      "    copying PIL\\SunImagePlugin.py -> build\\lib.win-amd64-3.8\\PIL\n",
      "    copying PIL\\TarIO.py -> build\\lib.win-amd64-3.8\\PIL\n",
      "    copying PIL\\TgaImagePlugin.py -> build\\lib.win-amd64-3.8\\PIL\n",
      "    copying PIL\\TiffImagePlugin.py -> build\\lib.win-amd64-3.8\\PIL\n",
      "    copying PIL\\TiffTags.py -> build\\lib.win-amd64-3.8\\PIL\n",
      "    copying PIL\\WalImageFile.py -> build\\lib.win-amd64-3.8\\PIL\n",
      "    copying PIL\\WebPImagePlugin.py -> build\\lib.win-amd64-3.8\\PIL\n",
      "    copying PIL\\WmfImagePlugin.py -> build\\lib.win-amd64-3.8\\PIL\n",
      "    copying PIL\\XbmImagePlugin.py -> build\\lib.win-amd64-3.8\\PIL\n",
      "    copying PIL\\XpmImagePlugin.py -> build\\lib.win-amd64-3.8\\PIL\n",
      "    copying PIL\\XVThumbImagePlugin.py -> build\\lib.win-amd64-3.8\\PIL\n",
      "    copying PIL\\_binary.py -> build\\lib.win-amd64-3.8\\PIL\n",
      "    copying PIL\\_tkinter_finder.py -> build\\lib.win-amd64-3.8\\PIL\n",
      "    copying PIL\\_util.py -> build\\lib.win-amd64-3.8\\PIL\n",
      "    copying PIL\\__init__.py -> build\\lib.win-amd64-3.8\\PIL\n",
      "    running egg_info\n",
      "    writing Pillow.egg-info\\PKG-INFO\n",
      "    writing dependency_links to Pillow.egg-info\\dependency_links.txt\n",
      "    writing requirements to Pillow.egg-info\\requires.txt\n",
      "    writing top-level names to Pillow.egg-info\\top_level.txt\n",
      "    reading manifest file 'Pillow.egg-info\\SOURCES.txt'\n",
      "    reading manifest template 'MANIFEST.in'\n",
      "    warning: no files found matching '*.sh'\n",
      "    no previously-included directories found matching 'docs\\_static'\n",
      "    warning: no previously-included files found matching '.coveragerc'\n",
      "    warning: no previously-included files found matching '.editorconfig'\n",
      "    warning: no previously-included files found matching '.landscape.yaml'\n",
      "    warning: no previously-included files found matching '.travis'\n",
      "    warning: no previously-included files found matching '.travis\\*'\n",
      "    warning: no previously-included files found matching 'appveyor.yml'\n",
      "    warning: no previously-included files found matching 'build_children.sh'\n",
      "    warning: no previously-included files found matching 'tox.ini'\n",
      "    warning: no previously-included files matching '.git*' found anywhere in distribution\n",
      "    warning: no previously-included files matching '*.pyc' found anywhere in distribution\n",
      "    warning: no previously-included files matching '*.so' found anywhere in distribution\n",
      "    writing manifest file 'Pillow.egg-info\\SOURCES.txt'\n",
      "    running build_ext\n",
      "    \n",
      "    \n",
      "    The headers or library files could not be found for zlib,\n",
      "    a required dependency when compiling Pillow from source.\n",
      "    \n",
      "    Please see the install instructions at:\n",
      "       https://pillow.readthedocs.io/en/latest/installation.html\n",
      "    \n",
      "    Traceback (most recent call last):\n",
      "      File \"C:\\Users\\jonas\\AppData\\Local\\Temp\\pip-install-5u_acvvq\\pillow\\setup.py\", line 711, in <module>\n",
      "        setup(name=NAME,\n",
      "      File \"c:\\users\\jonas\\miniconda3\\lib\\site-packages\\setuptools\\__init__.py\", line 144, in setup\n",
      "        return distutils.core.setup(**attrs)\n",
      "      File \"c:\\users\\jonas\\miniconda3\\lib\\distutils\\core.py\", line 148, in setup\n",
      "        dist.run_commands()\n",
      "      File \"c:\\users\\jonas\\miniconda3\\lib\\distutils\\dist.py\", line 966, in run_commands\n",
      "        self.run_command(cmd)\n",
      "      File \"c:\\users\\jonas\\miniconda3\\lib\\distutils\\dist.py\", line 985, in run_command\n",
      "        cmd_obj.run()\n",
      "      File \"c:\\users\\jonas\\miniconda3\\lib\\site-packages\\setuptools\\command\\install.py\", line 61, in run\n",
      "        return orig.install.run(self)\n",
      "      File \"c:\\users\\jonas\\miniconda3\\lib\\distutils\\command\\install.py\", line 545, in run\n",
      "        self.run_command('build')\n",
      "      File \"c:\\users\\jonas\\miniconda3\\lib\\distutils\\cmd.py\", line 313, in run_command\n",
      "        self.distribution.run_command(command)\n",
      "      File \"c:\\users\\jonas\\miniconda3\\lib\\distutils\\dist.py\", line 985, in run_command\n",
      "        cmd_obj.run()\n",
      "      File \"c:\\users\\jonas\\miniconda3\\lib\\distutils\\command\\build.py\", line 135, in run\n",
      "        self.run_command(cmd_name)\n",
      "      File \"c:\\users\\jonas\\miniconda3\\lib\\distutils\\cmd.py\", line 313, in run_command\n",
      "        self.distribution.run_command(command)\n",
      "      File \"c:\\users\\jonas\\miniconda3\\lib\\distutils\\dist.py\", line 985, in run_command\n",
      "        cmd_obj.run()\n",
      "      File \"c:\\users\\jonas\\miniconda3\\lib\\distutils\\command\\build_ext.py\", line 340, in run\n",
      "        self.build_extensions()\n",
      "      File \"C:\\Users\\jonas\\AppData\\Local\\Temp\\pip-install-5u_acvvq\\pillow\\setup.py\", line 545, in build_extensions\n",
      "        raise RequiredDependencyException(f)\n",
      "    __main__.RequiredDependencyException: zlib\n",
      "    \n",
      "    During handling of the above exception, another exception occurred:\n",
      "    \n",
      "    Traceback (most recent call last):\n",
      "      File \"<string>\", line 1, in <module>\n",
      "      File \"C:\\Users\\jonas\\AppData\\Local\\Temp\\pip-install-5u_acvvq\\pillow\\setup.py\", line 756, in <module>\n",
      "        raise RequiredDependencyException(msg)\n",
      "    __main__.RequiredDependencyException:\n",
      "    \n",
      "    The headers or library files could not be found for zlib,\n",
      "    a required dependency when compiling Pillow from source.\n",
      "    \n",
      "    Please see the install instructions at:\n",
      "       https://pillow.readthedocs.io/en/latest/installation.html\n",
      "    \n",
      "    \n",
      "    ----------------------------------------\n",
      "ERROR: Command errored out with exit status 1: 'c:\\users\\jonas\\miniconda3\\python.exe' -u -c 'import sys, setuptools, tokenize; sys.argv[0] = '\"'\"'C:\\\\Users\\\\jonas\\\\AppData\\\\Local\\\\Temp\\\\pip-install-5u_acvvq\\\\pillow\\\\setup.py'\"'\"'; __file__='\"'\"'C:\\\\Users\\\\jonas\\\\AppData\\\\Local\\\\Temp\\\\pip-install-5u_acvvq\\\\pillow\\\\setup.py'\"'\"';f=getattr(tokenize, '\"'\"'open'\"'\"', open)(__file__);code=f.read().replace('\"'\"'\\r\\n'\"'\"', '\"'\"'\\n'\"'\"');f.close();exec(compile(code, __file__, '\"'\"'exec'\"'\"'))' install --record 'C:\\Users\\jonas\\AppData\\Local\\Temp\\pip-record-rm0549tu\\install-record.txt' --single-version-externally-managed --compile --install-headers 'c:\\users\\jonas\\miniconda3\\Include\\pillow' Check the logs for full command output.\n",
      "WARNING: You are using pip version 20.2.3; however, version 20.2.4 is available.\n",
      "You should consider upgrading via the 'c:\\users\\jonas\\miniconda3\\python.exe -m pip install --upgrade pip' command.\n"
     ]
    }
   ],
   "source": []
  },
  {
   "cell_type": "code",
   "execution_count": null,
   "metadata": {},
   "outputs": [],
   "source": []
  },
  {
   "cell_type": "code",
   "execution_count": null,
   "metadata": {},
   "outputs": [],
   "source": []
  }
 ],
 "metadata": {
  "kernelspec": {
   "display_name": "Python 3",
   "language": "python",
   "name": "python3"
  },
  "language_info": {
   "codemirror_mode": {
    "name": "ipython",
    "version": 3
   },
   "file_extension": ".py",
   "mimetype": "text/x-python",
   "name": "python",
   "nbconvert_exporter": "python",
   "pygments_lexer": "ipython3",
   "version": "3.8.3"
  }
 },
 "nbformat": 4,
 "nbformat_minor": 4
}
